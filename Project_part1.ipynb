{
  "nbformat": 4,
  "nbformat_minor": 0,
  "metadata": {
    "colab": {
      "provenance": [],
      "authorship_tag": "ABX9TyMn70Q1fZn8JQC89JBb7jW0",
      "include_colab_link": true
    },
    "kernelspec": {
      "name": "python3",
      "display_name": "Python 3"
    },
    "language_info": {
      "name": "python"
    }
  },
  "cells": [
    {
      "cell_type": "markdown",
      "metadata": {
        "id": "view-in-github",
        "colab_type": "text"
      },
      "source": [
        "<a href=\"https://colab.research.google.com/github/emirsav/ProjectNumericalMethods2023/blob/main/Project_part1.ipynb\" target=\"_parent\"><img src=\"https://colab.research.google.com/assets/colab-badge.svg\" alt=\"Open In Colab\"/></a>"
      ]
    },
    {
      "cell_type": "markdown",
      "source": [
        "Radioactive Decay\n"
      ],
      "metadata": {
        "id": "IuAk1HdNH6wA"
      }
    },
    {
      "cell_type": "code",
      "execution_count": 1,
      "metadata": {
        "id": "Aoaw6-yJj6g9"
      },
      "outputs": [],
      "source": [
        "import numpy as np\n",
        "import matplotlib.pyplot as plt"
      ]
    },
    {
      "cell_type": "code",
      "source": [
        "thalf=10             #half life\n",
        "lam=np.log(2)/thalf  #lambda\n",
        "pD=lam               #Decay prob,dt=1\n",
        "pS=1-pD              #Survival prob\n",
        "T=range(100)\n"
      ],
      "metadata": {
        "id": "DpE1T5bnkIOC"
      },
      "execution_count": 2,
      "outputs": []
    },
    {
      "cell_type": "code",
      "source": [
        "N=1000               #Initial number of atoms"
      ],
      "metadata": {
        "id": "GiKEWBL7lIub"
      },
      "execution_count": 3,
      "outputs": []
    },
    {
      "cell_type": "code",
      "source": [
        "def decay(N):\n",
        "    population=[]\n",
        "    for t in T:\n",
        "       r=np.random.random(N)  \n",
        "       survive=np.sum(r < pS)   #Checking if the atom survived\n",
        "       population.append(survive)\n",
        "       N=survive \n",
        "    return population\n",
        "\n"
      ],
      "metadata": {
        "id": "NlUYdsOxl802"
      },
      "execution_count": 4,
      "outputs": []
    },
    {
      "cell_type": "code",
      "source": [
        "\n",
        "plt.plot(T, decay(N) )"
      ],
      "metadata": {
        "id": "D9Y2GIjBMGI7",
        "colab": {
          "base_uri": "https://localhost:8080/",
          "height": 282
        },
        "outputId": "5ffcfa53-f5d1-46ac-d0ef-ee4ec7c7fcab"
      },
      "execution_count": 5,
      "outputs": [
        {
          "output_type": "execute_result",
          "data": {
            "text/plain": [
              "[<matplotlib.lines.Line2D at 0x7fe5675407c0>]"
            ]
          },
          "metadata": {},
          "execution_count": 5
        },
        {
          "output_type": "display_data",
          "data": {
            "text/plain": [
              "<Figure size 432x288 with 1 Axes>"
            ],
            "image/png": "[encoded data removed]"
          },
          "metadata": {
            "needs_background": "light"
          }
        }
      ]
    },
    {
      "cell_type": "code",
      "source": [
        "meanDecay=np.mean(np.array([decay(N)for i in range(1000)]),axis=0)   #mean deviation\n",
        "stdDecay=np.std(np.array([decay(N)for i in range (1000)]),axis=0)    #std deviation"
      ],
      "metadata": {
        "id": "zqukAVAluTzC"
      },
      "execution_count": 6,
      "outputs": []
    },
    {
      "cell_type": "code",
      "source": [
        "\n",
        "plt.plot(T,meanDecay,'o')\n",
        "exact=N*np.exp(-lam*T)\n",
        "plt.plot(T,exact)"
      ],
      "metadata": {
        "id": "c0209l2U4y3O",
        "colab": {
          "base_uri": "https://localhost:8080/",
          "height": 282
        },
        "outputId": "75a02ab2-ed9e-4ec2-e4f9-c00a41dd850a"
      },
      "execution_count": 7,
      "outputs": [
        {
          "output_type": "execute_result",
          "data": {
            "text/plain": [
              "[<matplotlib.lines.Line2D at 0x7fe566e454c0>]"
            ]
          },
          "metadata": {},
          "execution_count": 7
        },
        {
          "output_type": "display_data",
          "data": {
            "text/plain": [
              "<Figure size 432x288 with 1 Axes>"
            ],
            "image/png": "[encoded data removed]"
          },
          "metadata": {
            "needs_background": "light"
          }
        }
      ]
    },
    {
      "cell_type": "code",
      "source": [
        "plt.plot(T,stdDecay)"
      ],
      "metadata": {
        "id": "YEvKdqoh6y4i",
        "colab": {
          "base_uri": "https://localhost:8080/",
          "height": 282
        },
        "outputId": "ab21d954-081c-4897-fda8-876a0bf8a04b"
      },
      "execution_count": 8,
      "outputs": [
        {
          "output_type": "execute_result",
          "data": {
            "text/plain": [
              "[<matplotlib.lines.Line2D at 0x7fe566f1a5e0>]"
            ]
          },
          "metadata": {},
          "execution_count": 8
        },
        {
          "output_type": "display_data",
          "data": {
            "text/plain": [
              "<Figure size 432x288 with 1 Axes>"
            ],
            "image/png": "[encoded data removed]"
          },
          "metadata": {
            "needs_background": "light"
          }
        }
      ]
    }
  ]
}